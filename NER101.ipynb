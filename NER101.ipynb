{
 "cells": [
  {
   "cell_type": "code",
   "execution_count": null,
   "metadata": {},
   "outputs": [],
   "source": []
  },
  {
   "cell_type": "code",
   "execution_count": 15,
   "metadata": {},
   "outputs": [
    {
     "data": {
      "text/plain": [
       "[('free delivery LEX2', 'MISC'),\n",
       " ('Clara Mercedes Rojas Fuentes', 'PER'),\n",
       " ('ZB-18912', 'MISC'),\n",
       " ('NW 68TH ST', 'MISC'),\n",
       " ('ZB-18912', 'MISC'),\n",
       " ('MIAMI', 'MISC'),\n",
       " ('FL United States B-19.3C 2459', 'ORG'),\n",
       " ('TBA143522026901 millions of', 'MISC'),\n",
       " ('DM13', 'MISC'),\n",
       " ('UtxDT216g/2', 'MISC'),\n",
       " ('next-1de/1 of 1/1/5012', 'MISC'),\n",
       " ('GKZ9', 'MISC'),\n",
       " ('A MI3', 'MISC')]"
      ]
     },
     "metadata": {},
     "output_type": "display_data"
    }
   ],
   "source": [
    "import spacy\n",
    "from spacy import displacy\n",
    "from collections import Counter\n",
    "import es_core_news_sm\n",
    "nlp = es_core_news_sm.load()\n",
    "doc = nlp('free delivery LEX2 1.8 Lbs 09/10 DM13 Clara Mercedes Rojas Fuentes (ZB-18912) 8121 NW 68TH ST - ZB-18912 33166-2797 MIAMI, FL United States B-19.3C 2459 TBA143522026901 millions of s DM13 CYCLE 1 free liste UtxDT216g/2/next-1de/1 of 1/1/5012/GKZ9 ТРАТ A MI3 movies and video str SPPBMHZM3V3 prime')\n",
    "display(([(X.text, X.label_) for X in doc.ents]))"
   ]
  },
  {
   "cell_type": "code",
   "execution_count": 17,
   "metadata": {},
   "outputs": [
    {
     "data": {
      "text/plain": [
       "[(free, 'B', 'MISC'),\n",
       " (delivery, 'I', 'MISC'),\n",
       " (LEX2, 'I', 'MISC'),\n",
       " (1.8, 'O', ''),\n",
       " (Lbs, 'O', ''),\n",
       " (09/10, 'O', ''),\n",
       " (DM13, 'O', ''),\n",
       " (Clara, 'B', 'PER'),\n",
       " (Mercedes, 'I', 'PER'),\n",
       " (Rojas, 'I', 'PER'),\n",
       " (Fuentes, 'I', 'PER'),\n",
       " ((, 'O', ''),\n",
       " (ZB-18912, 'B', 'MISC'),\n",
       " (), 'O', ''),\n",
       " (8121, 'O', ''),\n",
       " (NW, 'B', 'MISC'),\n",
       " (68TH, 'I', 'MISC'),\n",
       " (ST, 'I', 'MISC'),\n",
       " (-, 'O', ''),\n",
       " (ZB-18912, 'B', 'MISC'),\n",
       " (33166-2797, 'O', ''),\n",
       " (MIAMI, 'B', 'MISC'),\n",
       " (,, 'O', ''),\n",
       " (FL, 'B', 'ORG'),\n",
       " (United, 'I', 'ORG'),\n",
       " (States, 'I', 'ORG'),\n",
       " (B-19.3C, 'I', 'ORG'),\n",
       " (2459, 'I', 'ORG'),\n",
       " (TBA143522026901, 'B', 'MISC'),\n",
       " (millions, 'I', 'MISC'),\n",
       " (of, 'I', 'MISC'),\n",
       " (s, 'O', ''),\n",
       " (DM13, 'B', 'MISC'),\n",
       " (CYCLE, 'O', ''),\n",
       " (1, 'O', ''),\n",
       " (free, 'O', ''),\n",
       " (liste, 'O', ''),\n",
       " (UtxDT216g/2, 'B', 'MISC'),\n",
       " (/, 'O', ''),\n",
       " (next-1de/1, 'B', 'MISC'),\n",
       " (of, 'I', 'MISC'),\n",
       " (1/1/5012, 'I', 'MISC'),\n",
       " (/, 'O', ''),\n",
       " (GKZ9, 'B', 'MISC'),\n",
       " (ТРАТ, 'O', ''),\n",
       " (A, 'B', 'MISC'),\n",
       " (MI3, 'I', 'MISC'),\n",
       " (movies, 'O', ''),\n",
       " (and, 'O', ''),\n",
       " (video, 'O', ''),\n",
       " (str, 'O', ''),\n",
       " (SPPBMHZM3V3, 'O', ''),\n",
       " (prime, 'O', '')]"
      ]
     },
     "metadata": {},
     "output_type": "display_data"
    },
    {
     "data": {
      "text/plain": [
       "13"
      ]
     },
     "execution_count": 17,
     "metadata": {},
     "output_type": "execute_result"
    }
   ],
   "source": [
    "display([(X, X.ent_iob_, X.ent_type_) for X in doc])\n",
    "len(doc.ents)"
   ]
  },
  {
   "cell_type": "code",
   "execution_count": 11,
   "metadata": {},
   "outputs": [
    {
     "data": {
      "text/plain": [
       "[('OD PAPER TOWELS VITAMIN CVG2 4.2 Lbs 09/10 DMI3', 'ORG'),\n",
       " ('NELFI RAMIREZ', 'MISC'),\n",
       " ('ZB-110072', 'MISC'),\n",
       " ('NW 68TH ST 33166-2797 MIAMI', 'MISC'),\n",
       " ('FL United States', 'ORG'),\n",
       " ('DM13', 'MISC'),\n",
       " ('UvxF JAX2 B-19.1B INO/ IBA145787251301 A MI3', 'MISC'),\n",
       " ('LIDAD D.', 'ORG')]"
      ]
     },
     "metadata": {},
     "output_type": "display_data"
    }
   ],
   "source": [
    "import spacy\n",
    "from spacy import displacy\n",
    "from collections import Counter\n",
    "import es_core_news_sm\n",
    "nlp = es_core_news_sm.load()\n",
    "doc = nlp('OD PAPER TOWELS VITAMIN CVG2 4.2 Lbs 09/10 DMI3 LUZ NELFI RAMIREZ (ZB-110072) 8121 NW 68TH ST 33166-2797 MIAMI , FL United States TBA143282231801 DM13 CYCLE 1 UvxF JAX2 B-19.1B INO/ IBA145787251301 A MI3 2488 LIDAD D.')\n",
    "display(([(X.text, X.label_) for X in doc.ents]))\n"
   ]
  },
  {
   "cell_type": "code",
   "execution_count": null,
   "metadata": {},
   "outputs": [],
   "source": []
  }
 ],
 "metadata": {
  "kernelspec": {
   "display_name": "Python 3",
   "language": "python",
   "name": "python3"
  },
  "language_info": {
   "codemirror_mode": {
    "name": "ipython",
    "version": 3
   },
   "file_extension": ".py",
   "mimetype": "text/x-python",
   "name": "python",
   "nbconvert_exporter": "python",
   "pygments_lexer": "ipython3",
   "version": "3.8.3"
  }
 },
 "nbformat": 4,
 "nbformat_minor": 4
}
